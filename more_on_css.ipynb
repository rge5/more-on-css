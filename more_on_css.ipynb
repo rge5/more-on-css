{
  "nbformat": 4,
  "nbformat_minor": 0,
  "metadata": {
    "colab": {
      "provenance": []
    },
    "kernelspec": {
      "name": "python3",
      "display_name": "Python 3"
    },
    "language_info": {
      "name": "python"
    }
  },
  "cells": [
    {
      "cell_type": "markdown",
      "source": [
        "1. Create a navigation bar similar to the below-mentioned image. The navigation bar must contain 5\n",
        "navigation links that are properly placed within the navigation bar using the CSS box model. The navigation\n",
        "items must change their text color on hover."
      ],
      "metadata": {
        "id": "AJro95diRZSZ"
      }
    },
    {
      "cell_type": "code",
      "execution_count": null,
      "metadata": {
        "id": "5mD56J1YRM41"
      },
      "outputs": [],
      "source": [
        "<!DOCTYPE html>\n",
        "<html lang=\"en\">\n",
        "<head>\n",
        "    <meta charset=\"UTF-8\">\n",
        "    <meta name=\"viewport\" content=\"width=device-width, initial-scale=1.0\">\n",
        "    <title>Document</title>\n",
        "    <style>\n",
        "        *{\n",
        "            padding: 0;\n",
        "            margin: 0;\n",
        "        }\n",
        "        .navbar{\n",
        "            background-color: aqua;\n",
        "            padding:15px 30px;\n",
        "        }\n",
        "        .nav-links{\n",
        "            display:flex;\n",
        "            list-style: none;\n",
        "        }\n",
        "        .nav-links li{\n",
        "            padding: 10px 20px;\n",
        "        }\n",
        "        .nav-links a{\n",
        "            color: white;\n",
        "            font-weight: bold;\n",
        "            transition: color 0.3s ease;\n",
        "        }\n",
        "        .nav-links a:hover{\n",
        "            color:black\n",
        "        }\n",
        "    </style>\n",
        "</head>\n",
        "<body>\n",
        "    <nav class=\"navbar\">\n",
        "    <ul class=\"nav-links\">\n",
        "        <li><a href=\"#\">Home</a></li>\n",
        "        <li><a href=\"#\">AboutUs</a></li>\n",
        "        <li><a href=\"#\">Contact</a></li>\n",
        "        <li><a href=\"#\">Blog</a></li>\n",
        "        <li><a href=\"#\">Login</a></li>\n",
        "    </ul>\n",
        "    </nav>\n",
        "</body>"
      ]
    },
    {
      "cell_type": "markdown",
      "source": [
        "2. Create a div centered with an image and paragraph similar to the image mentioned below."
      ],
      "metadata": {
        "id": "1eQaCyUrRkUU"
      }
    },
    {
      "cell_type": "code",
      "source": [
        "<!DOCTYPE html>\n",
        "<html lang=\"en\">\n",
        "<head>\n",
        "  <meta charset=\"UTF-8\">\n",
        "  <title>Centered Course Card</title>\n",
        "  <style>\n",
        "    body {\n",
        "      display: flex;\n",
        "      justify-content: center;\n",
        "      align-items: center;\n",
        "      height: 100vh;\n",
        "      margin: 0;\n",
        "      background-color: #f0f0f0;\n",
        "    }\n",
        "    .card{\n",
        "        background-color:yellow;\n",
        "        padding: 20px;\n",
        "        border-radius: 10px;\n",
        "        text-align: center;\n",
        "        width: 300px;\n",
        "        box-shadow: 0 4px 10px;\n",
        "    }\n",
        "    .card img{\n",
        "        border-radius: 10px;\n",
        "        width: 100%;\n",
        "    }\n",
        "    .card p{\n",
        "        font-weight: bold;\n",
        "        margin-top: 10px;\n",
        "    }\n",
        "  </style>\n",
        "</head>\n",
        "<body>\n",
        "  <div class=\"card\">\n",
        "    <img src=\"https://s3.ap-south-1.amazonaws.com/cdn.pwskills.com/assets/uploads/course-thumbnail/3a5cd631-3199-4d77-abbe-776b35f4c8ee.png\"\" alt=\"PW Skills Full Stack Web Development\">\n",
        "    <p>Course Name: PW Skills full stack web development</p>\n",
        "  </div>\n",
        "</body>\n",
        "</html>"
      ],
      "metadata": {
        "id": "rousVrafRoit"
      },
      "execution_count": null,
      "outputs": []
    },
    {
      "cell_type": "markdown",
      "source": [
        "3. Create a navigation bar similar to question 1. For each navigation item, use a different border style."
      ],
      "metadata": {
        "id": "nWGXRzD-cNlb"
      }
    },
    {
      "cell_type": "code",
      "source": [
        "<!DOCTYPE html>\n",
        "<html lang=\"en\">\n",
        "<head>\n",
        "    <meta charset=\"UTF-8\">\n",
        "    <meta name=\"viewport\" content=\"width=device-width, initial-scale=1.0\">\n",
        "    <title>Document</title>\n",
        "    <style>\n",
        "        *{\n",
        "            padding: 0;\n",
        "            margin: 0;\n",
        "        }\n",
        "        .navbar{\n",
        "            background-color: aqua;\n",
        "            padding:15px 30px;\n",
        "        }\n",
        "        .nav-links{\n",
        "            display:flex;\n",
        "            list-style: none;\n",
        "        }\n",
        "        .nav-links li{\n",
        "            padding: 10px 20px;\n",
        "        }\n",
        "        .nav-links a{\n",
        "            padding:10px;\n",
        "            color: white;\n",
        "            font-weight: bold;\n",
        "            transition: color 0.3s ease;\n",
        "        }\n",
        "        .nav-links a:hover{\n",
        "            color:black\n",
        "        }\n",
        "        li a.home{\n",
        "            border:2px solid black ;\n",
        "            border-style: dashed;\n",
        "        }\n",
        "        li a.about{\n",
        "            border:2px solid black ;\n",
        "            border-style: dotted;\n",
        "        }\n",
        "        li a.contact{\n",
        "            border:2px solid rgb(255, 9, 9) ;\n",
        "            ;\n",
        "        }\n",
        "        li a.blog{\n",
        "            border:2px solid black ;\n",
        "            border-radius: 10px;\n",
        "        }\n",
        "        li a.login{\n",
        "            border:2px solid rgb(0, 102, 255) ;\n",
        "            border-style:dotted;\n",
        "            border-radius: 20px;\n",
        "        }\n",
        "    </style>\n",
        "</head>\n",
        "<body>\n",
        "    <nav class=\"navbar\">\n",
        "    <ul class=\"nav-links\">\n",
        "        <li><a class=\"home\" href=\"#\">Home</a></li>\n",
        "        <li><a class=\"about\" href=\"#\">AboutUs</a></li>\n",
        "        <li><a class=\"contact\" href=\"#\">Contact</a></li>\n",
        "        <li><a class=\"blog\" href=\"#\">Blog</a></li>\n",
        "        <li><a class=\"login\" href=\"#\">Login</a></li>\n",
        "    </ul>\n",
        "    </nav>\n",
        "</body>\n",
        "</html>"
      ],
      "metadata": {
        "id": "liCMUDyxcTtU"
      },
      "execution_count": null,
      "outputs": []
    },
    {
      "cell_type": "markdown",
      "source": [
        "4. Create a simple webpage with an image and make the image circular using border-radius."
      ],
      "metadata": {
        "id": "FutX7VhB8_vb"
      }
    },
    {
      "cell_type": "code",
      "source": [
        "<!DOCTYPE html>\n",
        "<html lang=\"en\">\n",
        "\n",
        "<head>\n",
        "    <meta charset=\"UTF-8\">\n",
        "    <meta name=\"viewport\" content=\"width=device-width, initial-scale=1.0\">\n",
        "    <title>Document</title>\n",
        "    <style>\n",
        "        div{\n",
        "            align-items: center;\n",
        "            margin-top: 200px;\n",
        "            text-align: center;\n",
        "        }\n",
        "        .circular-image {\n",
        "            width: 200px;\n",
        "            height: 200px;\n",
        "            border-radius: 50%;\n",
        "        }\n",
        "    </style>\n",
        "</head>\n",
        "\n",
        "<body>\n",
        "    <div>\n",
        "        <h1>My circular image</h1>\n",
        "        <img class=\"circular-image\"\n",
        "            src=\"adorable-beagle-puppy-solo-portrait.jpg\"\n",
        "            alt=\"dog\">\n",
        "    </div>\n",
        "</body>\n",
        "\n",
        "</html>"
      ],
      "metadata": {
        "id": "TuEGlgwx9Mkh"
      },
      "execution_count": null,
      "outputs": []
    },
    {
      "cell_type": "markdown",
      "source": [
        "5. Create a simple blog website about Google fonts. The webpage must have the heading with “Oswald” font\n",
        "align center to the page, below the heading have an image of Google fonts and a paragraph about Google\n",
        "fonts in font “Montserrat” paragraph font style should be“montserrat” font."
      ],
      "metadata": {
        "id": "H9yblmOgE2gj"
      }
    },
    {
      "cell_type": "code",
      "source": [
        "<!DOCTYPE html>\n",
        "<html lang=\"en\">\n",
        "<head>\n",
        "  <meta charset=\"UTF-8\" />\n",
        "  <meta name=\"viewport\" content=\"width=device-width, initial-scale=1.0\" />\n",
        "  <title>Google Fonts Blog</title>\n",
        "\n",
        "  <!-- Google Fonts -->\n",
        "  <link href=\"https://fonts.googleapis.com/css2?family=Montserrat&family=Oswald&display=swap\" rel=\"stylesheet\">\n",
        "\n",
        "  <style>\n",
        "    body {\n",
        "      margin: 0;\n",
        "      padding: 0;\n",
        "      font-family: 'Montserrat', sans-serif;\n",
        "      background-color: #f5f5f5;\n",
        "      text-align: center;\n",
        "    }\n",
        "\n",
        "    h1 {\n",
        "      font-family: 'Oswald', sans-serif;\n",
        "      font-size: 3rem;\n",
        "      margin-top: 40px;\n",
        "      color: #333;\n",
        "    }\n",
        "\n",
        "    img {\n",
        "      margin-top: 20px;\n",
        "      max-width: 90%;\n",
        "      height: auto;\n",
        "      border-radius: 8px;\n",
        "    }\n",
        "\n",
        "    p {\n",
        "      font-family: 'Montserrat', sans-serif;\n",
        "      max-width: 800px;\n",
        "      margin: 30px auto;\n",
        "      font-size: 1.2rem;\n",
        "      color: #555;\n",
        "      padding: 0 20px;\n",
        "      line-height: 1.6;\n",
        "    }\n",
        "  </style>\n",
        "</head>\n",
        "<body>\n",
        "\n",
        "  <h1>Google Fonts</h1>\n",
        "\n",
        "  <img src=\"https://upload.wikimedia.org/wikipedia/commons/thumb/5/5e/Google_Fonts_logo_2015.svg/1280px-Google_Fonts_logo_2015.svg.png\" alt=\"Google Fonts Logo\">\n",
        "\n",
        "  <p>\n",
        "    Google Fonts is a library of free and open-source fonts that can be used on websites and in design projects. It offers hundreds of font families with different styles and weights, allowing developers and designers to enhance the typography of their web pages without worrying about licensing. Google Fonts is easy to use and integrates seamlessly into HTML and CSS by simply adding a link to the font and specifying it in styles.\n",
        "  </p>\n",
        "\n",
        "</body>\n",
        "</html>\n"
      ],
      "metadata": {
        "id": "HnF63NCIfYaY"
      },
      "execution_count": null,
      "outputs": []
    },
    {
      "cell_type": "markdown",
      "source": [
        "6. Create a simple website as mentioned in the below image. You can get the assets by visiting https://\n",
        "pwskills.com/about-us."
      ],
      "metadata": {
        "id": "yYz5y2wZfcDI"
      }
    },
    {
      "cell_type": "code",
      "source": [
        "<!DOCTYPE html>\n",
        "<html lang=\"en\">\n",
        "<head>\n",
        "  <meta charset=\"UTF-8\" />\n",
        "  <meta name=\"viewport\" content=\"width=device-width, initial-scale=1.0\"/>\n",
        "  <title>About Us - PW Skills</title>\n",
        "\n",
        "\n",
        "\n",
        "  <style>\n",
        "    body {\n",
        "      margin: 0;\n",
        "      padding: 0;\n",
        "    }\n",
        "\n",
        "    .container{\n",
        "        margin: 40px auto;\n",
        "        text-align: center;\n",
        "        border: 1px solid #000;\n",
        "        padding: 20px;\n",
        "        max-width: 900px;\n",
        "        border-radius: 8px;\n",
        "    }\n",
        "    h1{\n",
        "        margin-bottom: 10px;\n",
        "    }\n",
        "    p{\n",
        "        font-size: 1rem;\n",
        "      line-height: 1.6;\n",
        "      padding: 10px 20px;\n",
        "    }\n",
        "    img{\n",
        "        width: 100%;\n",
        "        margin-top: 20px;\n",
        "        height: auto;\n",
        "    }\n",
        "  </style>\n",
        "</head>\n",
        "<body>\n",
        "\n",
        "  <div class=\"container\">\n",
        "    <h1>About Us</h1>\n",
        "    <p>\n",
        "      PW Skills' mission is to permeate through every student/professional’s outlook towards jobs and change their attitude and perspective from\n",
        "      “How Can I Do It?” to “Of Course I Can Do It”. We aim to do this by providing exceptional up skilling courses at affordable rates, while being\n",
        "      tech-forward so anyone, anywhere can access and improve their ability to be successful in life.\n",
        "    </p>\n",
        "    <img src=\"aboutUs.png\" alt=\"PW Skills About Us\">\n",
        "  </div>\n",
        "\n",
        "</body>\n",
        "</html>\n"
      ],
      "metadata": {
        "id": "jIuRAP5wff9h"
      },
      "execution_count": null,
      "outputs": []
    },
    {
      "cell_type": "markdown",
      "source": [
        "7. Create a simple webpage with a card similar to question number 2. The card must be semi-transparent as\n",
        "default and on hovering the card must be displayed clearly. Use CSS opacity to achieve this output."
      ],
      "metadata": {
        "id": "JuFNpyGbmkBb"
      }
    },
    {
      "cell_type": "code",
      "source": [
        "<!DOCTYPE html>\n",
        "<html lang=\"en\">\n",
        "<head>\n",
        "  <meta charset=\"UTF-8\">\n",
        "  <title>Centered Course Card</title>\n",
        "  <style>\n",
        "    body {\n",
        "      display: flex;\n",
        "      justify-content: center;\n",
        "      align-items: center;\n",
        "      height: 100vh;\n",
        "      margin: 0;\n",
        "      background-color: #f0f0f0;\n",
        "    }\n",
        "    .card{\n",
        "        background-color:rgba(238, 238, 77, 0.479);\n",
        "        padding: 20px;\n",
        "        border-radius: 10px;\n",
        "        text-align: center;\n",
        "        width: 300px;\n",
        "        box-shadow: 0 4px 10px;\n",
        "    }\n",
        "    .card img{\n",
        "        border-radius: 10px;\n",
        "        width: 100%;\n",
        "    }\n",
        "    .card p{\n",
        "        font-weight: bold;\n",
        "        margin-top: 10px;\n",
        "    }\n",
        "    .card:hover{\n",
        "        opacity: 0.5;\n",
        "        cursor: pointer;\n",
        "    }\n",
        "  </style>\n",
        "</head>\n",
        "<body>\n",
        "  <div class=\"card\">\n",
        "    <img src=\"https://s3.ap-south-1.amazonaws.com/cdn.pwskills.com/assets/uploads/course-thumbnail/3a5cd631-3199-4d77-abbe-776b35f4c8ee.png\"\" alt=\"PW Skills Full Stack Web Development\">\n",
        "    <p>Course Name: PW Skills full stack web development</p>\n",
        "  </div>\n",
        "</body>\n",
        "</html>"
      ],
      "metadata": {
        "id": "YC2nF9k7mpAX"
      },
      "execution_count": null,
      "outputs": []
    },
    {
      "cell_type": "markdown",
      "source": [
        "8. Create a simple list of items as mentioned in the below image."
      ],
      "metadata": {
        "id": "1o39GCGln2j4"
      }
    },
    {
      "cell_type": "code",
      "source": [
        "<!DOCTYPE html>\n",
        "<html lang=\"en\">\n",
        "<head>\n",
        "    <meta charset=\"UTF-8\">\n",
        "    <meta name=\"viewport\" content=\"width=device-width, initial-scale=1.0\">\n",
        "    <title>Document</title>\n",
        "</head>\n",
        "<body>\n",
        "    <h1>Requirements</h1>\n",
        "    <ol type=\"i\">\n",
        "        <li>System with i3 processor or better</li>\n",
        "        <li>Atleast 4GB of RAM</li>\n",
        "        <li>Working internet connection</li>\n",
        "        <li>Dedication to learn</li>\n",
        "    </ol>\n",
        "</body>\n",
        "</html>"
      ],
      "metadata": {
        "id": "Tq-4LZcCoIec"
      },
      "execution_count": null,
      "outputs": []
    }
  ]
}